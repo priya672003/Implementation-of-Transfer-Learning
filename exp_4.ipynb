{
  "nbformat": 4,
  "nbformat_minor": 0,
  "metadata": {
    "colab": {
      "provenance": [],
      "gpuType": "T4"
    },
    "kernelspec": {
      "name": "python3",
      "display_name": "Python 3"
    },
    "language_info": {
      "name": "python"
    },
    "accelerator": "GPU"
  },
  "cells": [
    {
      "cell_type": "code",
      "execution_count": 1,
      "metadata": {
        "id": "tu_WNwNdsXTI"
      },
      "outputs": [],
      "source": [
        "import tensorflow as tf\n",
        "from tensorflow.keras.datasets import cifar10\n",
        "from tensorflow.keras.applications import VGG19\n",
        "from tensorflow.keras.models import Sequential\n",
        "from tensorflow.keras.layers import Dense, Flatten, Dropout\n",
        "from tensorflow.keras.optimizers import Adam\n",
        "from tensorflow.keras.callbacks import ReduceLROnPlateau\n",
        "import pandas as pd\n",
        "from sklearn.metrics import classification_report,confusion_matrix\n",
        "import numpy as np"
      ]
    },
    {
      "cell_type": "code",
      "source": [
        "(x_train,y_train),(x_test,y_test)=cifar10.load_data()"
      ],
      "metadata": {
        "id": "wIdnSC5pshFE",
        "colab": {
          "base_uri": "https://localhost:8080/"
        },
        "outputId": "dd0f88c7-58cd-4e3d-ca94-8c5e6498b332"
      },
      "execution_count": 2,
      "outputs": [
        {
          "output_type": "stream",
          "name": "stdout",
          "text": [
            "Downloading data from https://www.cs.toronto.edu/~kriz/cifar-10-python.tar.gz\n",
            "170498071/170498071 [==============================] - 4s 0us/step\n"
          ]
        }
      ]
    },
    {
      "cell_type": "code",
      "source": [
        "x_train = x_train.astype('float32') / 255.0\n",
        "x_test = x_test.astype('float32') / 255.0\n",
        "     "
      ],
      "metadata": {
        "id": "zAn_TB0lwP0G"
      },
      "execution_count": 3,
      "outputs": []
    },
    {
      "cell_type": "code",
      "source": [
        "base_model = VGG19(weights='imagenet',include_top=False,input_shape=(32,32,3))"
      ],
      "metadata": {
        "id": "F4CBgHeesu9H",
        "colab": {
          "base_uri": "https://localhost:8080/"
        },
        "outputId": "2d7275e7-40ae-41f3-84da-81cd518f3cce"
      },
      "execution_count": 4,
      "outputs": [
        {
          "output_type": "stream",
          "name": "stdout",
          "text": [
            "Downloading data from https://storage.googleapis.com/tensorflow/keras-applications/vgg19/vgg19_weights_tf_dim_ordering_tf_kernels_notop.h5\n",
            "80134624/80134624 [==============================] - 1s 0us/step\n"
          ]
        }
      ]
    },
    {
      "cell_type": "code",
      "source": [
        "for layer in base_model.layers:\n",
        "  layer.trainable = False"
      ],
      "metadata": {
        "id": "zcK3oEDyvX8h"
      },
      "execution_count": 5,
      "outputs": []
    },
    {
      "cell_type": "code",
      "source": [
        "model = Sequential()\n",
        "model.add(base_model)\n",
        "model.add(Flatten())\n",
        "model.add(Dense(512,activation=(\"relu\")))\n",
        "model.add(Dropout(0.5))\n",
        "model.add(Dense(10,activation=(\"softmax\")))"
      ],
      "metadata": {
        "id": "N6ySv2fvsxDK"
      },
      "execution_count": 6,
      "outputs": []
    },
    {
      "cell_type": "code",
      "source": [
        "model.summary()"
      ],
      "metadata": {
        "colab": {
          "base_uri": "https://localhost:8080/"
        },
        "id": "LNbrFY5Qs2NC",
        "outputId": "7de9fde2-8e3c-49d7-d244-f7a4b6ed4204"
      },
      "execution_count": 7,
      "outputs": [
        {
          "output_type": "stream",
          "name": "stdout",
          "text": [
            "Model: \"sequential\"\n",
            "_________________________________________________________________\n",
            " Layer (type)                Output Shape              Param #   \n",
            "=================================================================\n",
            " vgg19 (Functional)          (None, 1, 1, 512)         20024384  \n",
            "                                                                 \n",
            " flatten (Flatten)           (None, 512)               0         \n",
            "                                                                 \n",
            " dense (Dense)               (None, 512)               262656    \n",
            "                                                                 \n",
            " dropout (Dropout)           (None, 512)               0         \n",
            "                                                                 \n",
            " dense_1 (Dense)             (None, 10)                5130      \n",
            "                                                                 \n",
            "=================================================================\n",
            "Total params: 20,292,170\n",
            "Trainable params: 267,786\n",
            "Non-trainable params: 20,024,384\n",
            "_________________________________________________________________\n"
          ]
        }
      ]
    },
    {
      "cell_type": "code",
      "source": [
        "model.compile(optimizer=Adam(learning_rate=0.001), loss='sparse_categorical_crossentropy', metrics=['accuracy'])\n",
        "     "
      ],
      "metadata": {
        "id": "7TKxnSz9s9h5"
      },
      "execution_count": 8,
      "outputs": []
    },
    {
      "cell_type": "code",
      "source": [
        "learning_rate_reduction = ReduceLROnPlateau(monitor='val_accuracy', patience=3, verbose=1, factor=0.5, min_lr=0.00001)\n"
      ],
      "metadata": {
        "id": "p4YAemWmtKHD"
      },
      "execution_count": 9,
      "outputs": []
    },
    {
      "cell_type": "code",
      "source": [
        "model.fit(x_train, y_train, batch_size=64, epochs=100, validation_data=(x_test, y_test), callbacks=[learning_rate_reduction])"
      ],
      "metadata": {
        "colab": {
          "base_uri": "https://localhost:8080/"
        },
        "id": "ZSEemxuywT91",
        "outputId": "cecf8387-e82b-4fe8-c2f8-0649dd5e37fd"
      },
      "execution_count": 10,
      "outputs": [
        {
          "output_type": "stream",
          "name": "stdout",
          "text": [
            "Epoch 1/100\n",
            "782/782 [==============================] - 25s 18ms/step - loss: 1.5008 - accuracy: 0.4718 - val_loss: 1.3242 - val_accuracy: 0.5343 - lr: 0.0010\n",
            "Epoch 2/100\n",
            "782/782 [==============================] - 13s 16ms/step - loss: 1.3255 - accuracy: 0.5314 - val_loss: 1.2373 - val_accuracy: 0.5647 - lr: 0.0010\n",
            "Epoch 3/100\n",
            "782/782 [==============================] - 14s 17ms/step - loss: 1.2662 - accuracy: 0.5559 - val_loss: 1.2309 - val_accuracy: 0.5633 - lr: 0.0010\n",
            "Epoch 4/100\n",
            "782/782 [==============================] - 13s 17ms/step - loss: 1.2350 - accuracy: 0.5653 - val_loss: 1.1947 - val_accuracy: 0.5821 - lr: 0.0010\n",
            "Epoch 5/100\n",
            "782/782 [==============================] - 13s 17ms/step - loss: 1.2041 - accuracy: 0.5749 - val_loss: 1.1817 - val_accuracy: 0.5819 - lr: 0.0010\n",
            "Epoch 6/100\n",
            "782/782 [==============================] - 13s 16ms/step - loss: 1.1826 - accuracy: 0.5818 - val_loss: 1.1783 - val_accuracy: 0.5876 - lr: 0.0010\n",
            "Epoch 7/100\n",
            "782/782 [==============================] - 13s 17ms/step - loss: 1.1614 - accuracy: 0.5911 - val_loss: 1.1619 - val_accuracy: 0.5944 - lr: 0.0010\n",
            "Epoch 8/100\n",
            "782/782 [==============================] - 13s 16ms/step - loss: 1.1431 - accuracy: 0.5965 - val_loss: 1.1459 - val_accuracy: 0.5997 - lr: 0.0010\n",
            "Epoch 9/100\n",
            "782/782 [==============================] - 13s 17ms/step - loss: 1.1342 - accuracy: 0.6001 - val_loss: 1.1396 - val_accuracy: 0.5975 - lr: 0.0010\n",
            "Epoch 10/100\n",
            "782/782 [==============================] - 13s 16ms/step - loss: 1.1139 - accuracy: 0.6059 - val_loss: 1.1329 - val_accuracy: 0.6037 - lr: 0.0010\n",
            "Epoch 11/100\n",
            "782/782 [==============================] - 13s 16ms/step - loss: 1.1030 - accuracy: 0.6113 - val_loss: 1.1333 - val_accuracy: 0.6030 - lr: 0.0010\n",
            "Epoch 12/100\n",
            "782/782 [==============================] - 13s 17ms/step - loss: 1.0862 - accuracy: 0.6161 - val_loss: 1.1152 - val_accuracy: 0.6126 - lr: 0.0010\n",
            "Epoch 13/100\n",
            "782/782 [==============================] - 13s 16ms/step - loss: 1.0720 - accuracy: 0.6213 - val_loss: 1.1253 - val_accuracy: 0.6094 - lr: 0.0010\n",
            "Epoch 14/100\n",
            "782/782 [==============================] - 13s 17ms/step - loss: 1.0634 - accuracy: 0.6230 - val_loss: 1.1091 - val_accuracy: 0.6101 - lr: 0.0010\n",
            "Epoch 15/100\n",
            "782/782 [==============================] - 13s 17ms/step - loss: 1.0514 - accuracy: 0.6290 - val_loss: 1.1232 - val_accuracy: 0.6147 - lr: 0.0010\n",
            "Epoch 16/100\n",
            "782/782 [==============================] - 13s 16ms/step - loss: 1.0399 - accuracy: 0.6307 - val_loss: 1.1139 - val_accuracy: 0.6113 - lr: 0.0010\n",
            "Epoch 17/100\n",
            "782/782 [==============================] - 13s 17ms/step - loss: 1.0277 - accuracy: 0.6346 - val_loss: 1.1202 - val_accuracy: 0.6083 - lr: 0.0010\n",
            "Epoch 18/100\n",
            "782/782 [==============================] - 13s 17ms/step - loss: 1.0173 - accuracy: 0.6384 - val_loss: 1.1103 - val_accuracy: 0.6168 - lr: 0.0010\n",
            "Epoch 19/100\n",
            "782/782 [==============================] - 13s 17ms/step - loss: 1.0108 - accuracy: 0.6419 - val_loss: 1.1183 - val_accuracy: 0.6086 - lr: 0.0010\n",
            "Epoch 20/100\n",
            "782/782 [==============================] - 13s 17ms/step - loss: 0.9998 - accuracy: 0.6436 - val_loss: 1.1086 - val_accuracy: 0.6151 - lr: 0.0010\n",
            "Epoch 21/100\n",
            "782/782 [==============================] - 13s 16ms/step - loss: 0.9901 - accuracy: 0.6485 - val_loss: 1.1131 - val_accuracy: 0.6175 - lr: 0.0010\n",
            "Epoch 22/100\n",
            "782/782 [==============================] - 13s 17ms/step - loss: 0.9778 - accuracy: 0.6526 - val_loss: 1.1109 - val_accuracy: 0.6135 - lr: 0.0010\n",
            "Epoch 23/100\n",
            "782/782 [==============================] - 13s 17ms/step - loss: 0.9698 - accuracy: 0.6550 - val_loss: 1.1039 - val_accuracy: 0.6169 - lr: 0.0010\n",
            "Epoch 24/100\n",
            "782/782 [==============================] - 13s 17ms/step - loss: 0.9606 - accuracy: 0.6586 - val_loss: 1.1135 - val_accuracy: 0.6208 - lr: 0.0010\n",
            "Epoch 25/100\n",
            "782/782 [==============================] - 13s 16ms/step - loss: 0.9573 - accuracy: 0.6611 - val_loss: 1.1050 - val_accuracy: 0.6210 - lr: 0.0010\n",
            "Epoch 26/100\n",
            "782/782 [==============================] - 13s 17ms/step - loss: 0.9428 - accuracy: 0.6628 - val_loss: 1.1073 - val_accuracy: 0.6257 - lr: 0.0010\n",
            "Epoch 27/100\n",
            "782/782 [==============================] - 13s 17ms/step - loss: 0.9359 - accuracy: 0.6664 - val_loss: 1.1090 - val_accuracy: 0.6238 - lr: 0.0010\n",
            "Epoch 28/100\n",
            "782/782 [==============================] - 13s 16ms/step - loss: 0.9321 - accuracy: 0.6679 - val_loss: 1.1081 - val_accuracy: 0.6201 - lr: 0.0010\n",
            "Epoch 29/100\n",
            "780/782 [============================>.] - ETA: 0s - loss: 0.9191 - accuracy: 0.6708\n",
            "Epoch 29: ReduceLROnPlateau reducing learning rate to 0.0005000000237487257.\n",
            "782/782 [==============================] - 13s 17ms/step - loss: 0.9188 - accuracy: 0.6710 - val_loss: 1.1232 - val_accuracy: 0.6224 - lr: 0.0010\n",
            "Epoch 30/100\n",
            "782/782 [==============================] - 14s 17ms/step - loss: 0.8637 - accuracy: 0.6932 - val_loss: 1.1015 - val_accuracy: 0.6303 - lr: 5.0000e-04\n",
            "Epoch 31/100\n",
            "782/782 [==============================] - 13s 16ms/step - loss: 0.8473 - accuracy: 0.6992 - val_loss: 1.0973 - val_accuracy: 0.6314 - lr: 5.0000e-04\n",
            "Epoch 32/100\n",
            "782/782 [==============================] - 13s 17ms/step - loss: 0.8378 - accuracy: 0.6995 - val_loss: 1.1059 - val_accuracy: 0.6301 - lr: 5.0000e-04\n",
            "Epoch 33/100\n",
            "782/782 [==============================] - 13s 17ms/step - loss: 0.8332 - accuracy: 0.7029 - val_loss: 1.1020 - val_accuracy: 0.6311 - lr: 5.0000e-04\n",
            "Epoch 34/100\n",
            "781/782 [============================>.] - ETA: 0s - loss: 0.8261 - accuracy: 0.7066\n",
            "Epoch 34: ReduceLROnPlateau reducing learning rate to 0.0002500000118743628.\n",
            "782/782 [==============================] - 13s 16ms/step - loss: 0.8261 - accuracy: 0.7066 - val_loss: 1.1081 - val_accuracy: 0.6248 - lr: 5.0000e-04\n",
            "Epoch 35/100\n",
            "782/782 [==============================] - 13s 16ms/step - loss: 0.7927 - accuracy: 0.7190 - val_loss: 1.1054 - val_accuracy: 0.6298 - lr: 2.5000e-04\n",
            "Epoch 36/100\n",
            "782/782 [==============================] - 13s 17ms/step - loss: 0.7863 - accuracy: 0.7208 - val_loss: 1.1023 - val_accuracy: 0.6347 - lr: 2.5000e-04\n",
            "Epoch 37/100\n",
            "782/782 [==============================] - 13s 17ms/step - loss: 0.7796 - accuracy: 0.7235 - val_loss: 1.1058 - val_accuracy: 0.6308 - lr: 2.5000e-04\n",
            "Epoch 38/100\n",
            "782/782 [==============================] - 13s 16ms/step - loss: 0.7766 - accuracy: 0.7232 - val_loss: 1.1116 - val_accuracy: 0.6310 - lr: 2.5000e-04\n",
            "Epoch 39/100\n",
            "780/782 [============================>.] - ETA: 0s - loss: 0.7701 - accuracy: 0.7259\n",
            "Epoch 39: ReduceLROnPlateau reducing learning rate to 0.0001250000059371814.\n",
            "782/782 [==============================] - 13s 16ms/step - loss: 0.7700 - accuracy: 0.7260 - val_loss: 1.1132 - val_accuracy: 0.6339 - lr: 2.5000e-04\n",
            "Epoch 40/100\n",
            "782/782 [==============================] - 13s 16ms/step - loss: 0.7565 - accuracy: 0.7314 - val_loss: 1.1088 - val_accuracy: 0.6330 - lr: 1.2500e-04\n",
            "Epoch 41/100\n",
            "782/782 [==============================] - 13s 16ms/step - loss: 0.7539 - accuracy: 0.7292 - val_loss: 1.1081 - val_accuracy: 0.6312 - lr: 1.2500e-04\n",
            "Epoch 42/100\n",
            "781/782 [============================>.] - ETA: 0s - loss: 0.7477 - accuracy: 0.7353\n",
            "Epoch 42: ReduceLROnPlateau reducing learning rate to 6.25000029685907e-05.\n",
            "782/782 [==============================] - 13s 17ms/step - loss: 0.7477 - accuracy: 0.7352 - val_loss: 1.1082 - val_accuracy: 0.6347 - lr: 1.2500e-04\n",
            "Epoch 43/100\n",
            "782/782 [==============================] - 13s 16ms/step - loss: 0.7370 - accuracy: 0.7385 - val_loss: 1.1125 - val_accuracy: 0.6325 - lr: 6.2500e-05\n",
            "Epoch 44/100\n",
            "782/782 [==============================] - 13s 16ms/step - loss: 0.7345 - accuracy: 0.7391 - val_loss: 1.1090 - val_accuracy: 0.6349 - lr: 6.2500e-05\n",
            "Epoch 45/100\n",
            "782/782 [==============================] - 13s 16ms/step - loss: 0.7335 - accuracy: 0.7406 - val_loss: 1.1122 - val_accuracy: 0.6349 - lr: 6.2500e-05\n",
            "Epoch 46/100\n",
            "782/782 [==============================] - 13s 17ms/step - loss: 0.7349 - accuracy: 0.7391 - val_loss: 1.1108 - val_accuracy: 0.6337 - lr: 6.2500e-05\n",
            "Epoch 47/100\n",
            "780/782 [============================>.] - ETA: 0s - loss: 0.7343 - accuracy: 0.7391\n",
            "Epoch 47: ReduceLROnPlateau reducing learning rate to 3.125000148429535e-05.\n",
            "782/782 [==============================] - 13s 17ms/step - loss: 0.7338 - accuracy: 0.7392 - val_loss: 1.1114 - val_accuracy: 0.6335 - lr: 6.2500e-05\n",
            "Epoch 48/100\n",
            "782/782 [==============================] - 13s 16ms/step - loss: 0.7301 - accuracy: 0.7400 - val_loss: 1.1101 - val_accuracy: 0.6354 - lr: 3.1250e-05\n",
            "Epoch 49/100\n",
            "782/782 [==============================] - 13s 17ms/step - loss: 0.7230 - accuracy: 0.7430 - val_loss: 1.1113 - val_accuracy: 0.6352 - lr: 3.1250e-05\n",
            "Epoch 50/100\n",
            "782/782 [==============================] - 13s 17ms/step - loss: 0.7229 - accuracy: 0.7451 - val_loss: 1.1135 - val_accuracy: 0.6353 - lr: 3.1250e-05\n",
            "Epoch 51/100\n",
            "781/782 [============================>.] - ETA: 0s - loss: 0.7260 - accuracy: 0.7416\n",
            "Epoch 51: ReduceLROnPlateau reducing learning rate to 1.5625000742147677e-05.\n",
            "782/782 [==============================] - 13s 17ms/step - loss: 0.7261 - accuracy: 0.7415 - val_loss: 1.1134 - val_accuracy: 0.6335 - lr: 3.1250e-05\n",
            "Epoch 52/100\n",
            "782/782 [==============================] - 13s 17ms/step - loss: 0.7230 - accuracy: 0.7427 - val_loss: 1.1123 - val_accuracy: 0.6355 - lr: 1.5625e-05\n",
            "Epoch 53/100\n",
            "782/782 [==============================] - 13s 16ms/step - loss: 0.7229 - accuracy: 0.7424 - val_loss: 1.1124 - val_accuracy: 0.6344 - lr: 1.5625e-05\n",
            "Epoch 54/100\n",
            "782/782 [==============================] - 13s 16ms/step - loss: 0.7198 - accuracy: 0.7448 - val_loss: 1.1126 - val_accuracy: 0.6336 - lr: 1.5625e-05\n",
            "Epoch 55/100\n",
            "780/782 [============================>.] - ETA: 0s - loss: 0.7236 - accuracy: 0.7438\n",
            "Epoch 55: ReduceLROnPlateau reducing learning rate to 1e-05.\n",
            "782/782 [==============================] - 13s 17ms/step - loss: 0.7234 - accuracy: 0.7438 - val_loss: 1.1121 - val_accuracy: 0.6339 - lr: 1.5625e-05\n",
            "Epoch 56/100\n",
            "782/782 [==============================] - 13s 16ms/step - loss: 0.7203 - accuracy: 0.7458 - val_loss: 1.1122 - val_accuracy: 0.6350 - lr: 1.0000e-05\n",
            "Epoch 57/100\n",
            "782/782 [==============================] - 13s 17ms/step - loss: 0.7183 - accuracy: 0.7466 - val_loss: 1.1122 - val_accuracy: 0.6351 - lr: 1.0000e-05\n",
            "Epoch 58/100\n",
            "782/782 [==============================] - 13s 16ms/step - loss: 0.7171 - accuracy: 0.7447 - val_loss: 1.1129 - val_accuracy: 0.6342 - lr: 1.0000e-05\n",
            "Epoch 59/100\n",
            "782/782 [==============================] - 13s 16ms/step - loss: 0.7217 - accuracy: 0.7416 - val_loss: 1.1118 - val_accuracy: 0.6346 - lr: 1.0000e-05\n",
            "Epoch 60/100\n",
            "782/782 [==============================] - 13s 16ms/step - loss: 0.7182 - accuracy: 0.7472 - val_loss: 1.1119 - val_accuracy: 0.6347 - lr: 1.0000e-05\n",
            "Epoch 61/100\n",
            "782/782 [==============================] - 13s 16ms/step - loss: 0.7219 - accuracy: 0.7417 - val_loss: 1.1125 - val_accuracy: 0.6337 - lr: 1.0000e-05\n",
            "Epoch 62/100\n",
            "782/782 [==============================] - 13s 17ms/step - loss: 0.7175 - accuracy: 0.7457 - val_loss: 1.1127 - val_accuracy: 0.6353 - lr: 1.0000e-05\n",
            "Epoch 63/100\n",
            "782/782 [==============================] - 13s 16ms/step - loss: 0.7196 - accuracy: 0.7439 - val_loss: 1.1123 - val_accuracy: 0.6352 - lr: 1.0000e-05\n",
            "Epoch 64/100\n",
            "782/782 [==============================] - 13s 17ms/step - loss: 0.7202 - accuracy: 0.7445 - val_loss: 1.1128 - val_accuracy: 0.6350 - lr: 1.0000e-05\n",
            "Epoch 65/100\n",
            "782/782 [==============================] - 13s 17ms/step - loss: 0.7182 - accuracy: 0.7448 - val_loss: 1.1129 - val_accuracy: 0.6343 - lr: 1.0000e-05\n",
            "Epoch 66/100\n",
            "782/782 [==============================] - 13s 17ms/step - loss: 0.7152 - accuracy: 0.7479 - val_loss: 1.1137 - val_accuracy: 0.6341 - lr: 1.0000e-05\n",
            "Epoch 67/100\n",
            "782/782 [==============================] - 13s 16ms/step - loss: 0.7189 - accuracy: 0.7447 - val_loss: 1.1130 - val_accuracy: 0.6346 - lr: 1.0000e-05\n",
            "Epoch 68/100\n",
            "782/782 [==============================] - 13s 17ms/step - loss: 0.7179 - accuracy: 0.7465 - val_loss: 1.1128 - val_accuracy: 0.6345 - lr: 1.0000e-05\n",
            "Epoch 69/100\n",
            "782/782 [==============================] - 13s 17ms/step - loss: 0.7158 - accuracy: 0.7446 - val_loss: 1.1136 - val_accuracy: 0.6353 - lr: 1.0000e-05\n",
            "Epoch 70/100\n",
            "782/782 [==============================] - 13s 16ms/step - loss: 0.7204 - accuracy: 0.7445 - val_loss: 1.1132 - val_accuracy: 0.6333 - lr: 1.0000e-05\n",
            "Epoch 71/100\n",
            "782/782 [==============================] - 13s 17ms/step - loss: 0.7166 - accuracy: 0.7453 - val_loss: 1.1134 - val_accuracy: 0.6348 - lr: 1.0000e-05\n",
            "Epoch 72/100\n",
            "782/782 [==============================] - 13s 16ms/step - loss: 0.7184 - accuracy: 0.7446 - val_loss: 1.1140 - val_accuracy: 0.6337 - lr: 1.0000e-05\n",
            "Epoch 73/100\n",
            "782/782 [==============================] - 13s 16ms/step - loss: 0.7182 - accuracy: 0.7450 - val_loss: 1.1129 - val_accuracy: 0.6354 - lr: 1.0000e-05\n",
            "Epoch 74/100\n",
            "782/782 [==============================] - 13s 17ms/step - loss: 0.7144 - accuracy: 0.7476 - val_loss: 1.1137 - val_accuracy: 0.6342 - lr: 1.0000e-05\n",
            "Epoch 75/100\n",
            "782/782 [==============================] - 13s 16ms/step - loss: 0.7172 - accuracy: 0.7480 - val_loss: 1.1135 - val_accuracy: 0.6336 - lr: 1.0000e-05\n",
            "Epoch 76/100\n",
            "782/782 [==============================] - 13s 16ms/step - loss: 0.7159 - accuracy: 0.7478 - val_loss: 1.1137 - val_accuracy: 0.6344 - lr: 1.0000e-05\n",
            "Epoch 77/100\n",
            "782/782 [==============================] - 13s 16ms/step - loss: 0.7156 - accuracy: 0.7463 - val_loss: 1.1134 - val_accuracy: 0.6345 - lr: 1.0000e-05\n",
            "Epoch 78/100\n",
            "782/782 [==============================] - 13s 16ms/step - loss: 0.7182 - accuracy: 0.7479 - val_loss: 1.1142 - val_accuracy: 0.6345 - lr: 1.0000e-05\n",
            "Epoch 79/100\n",
            "782/782 [==============================] - 13s 16ms/step - loss: 0.7127 - accuracy: 0.7472 - val_loss: 1.1148 - val_accuracy: 0.6332 - lr: 1.0000e-05\n",
            "Epoch 80/100\n",
            "782/782 [==============================] - 13s 16ms/step - loss: 0.7177 - accuracy: 0.7472 - val_loss: 1.1142 - val_accuracy: 0.6335 - lr: 1.0000e-05\n",
            "Epoch 81/100\n",
            "782/782 [==============================] - 13s 17ms/step - loss: 0.7176 - accuracy: 0.7459 - val_loss: 1.1142 - val_accuracy: 0.6335 - lr: 1.0000e-05\n",
            "Epoch 82/100\n",
            "782/782 [==============================] - 13s 17ms/step - loss: 0.7150 - accuracy: 0.7469 - val_loss: 1.1144 - val_accuracy: 0.6338 - lr: 1.0000e-05\n",
            "Epoch 83/100\n",
            "782/782 [==============================] - 13s 17ms/step - loss: 0.7163 - accuracy: 0.7456 - val_loss: 1.1143 - val_accuracy: 0.6337 - lr: 1.0000e-05\n",
            "Epoch 84/100\n",
            "782/782 [==============================] - 13s 16ms/step - loss: 0.7155 - accuracy: 0.7504 - val_loss: 1.1150 - val_accuracy: 0.6332 - lr: 1.0000e-05\n",
            "Epoch 85/100\n",
            "782/782 [==============================] - 13s 17ms/step - loss: 0.7146 - accuracy: 0.7469 - val_loss: 1.1152 - val_accuracy: 0.6339 - lr: 1.0000e-05\n",
            "Epoch 86/100\n",
            "782/782 [==============================] - 13s 17ms/step - loss: 0.7167 - accuracy: 0.7453 - val_loss: 1.1146 - val_accuracy: 0.6347 - lr: 1.0000e-05\n",
            "Epoch 87/100\n",
            "782/782 [==============================] - 13s 17ms/step - loss: 0.7126 - accuracy: 0.7475 - val_loss: 1.1151 - val_accuracy: 0.6354 - lr: 1.0000e-05\n",
            "Epoch 88/100\n",
            "782/782 [==============================] - 13s 17ms/step - loss: 0.7150 - accuracy: 0.7467 - val_loss: 1.1150 - val_accuracy: 0.6346 - lr: 1.0000e-05\n",
            "Epoch 89/100\n",
            "782/782 [==============================] - 13s 16ms/step - loss: 0.7116 - accuracy: 0.7484 - val_loss: 1.1152 - val_accuracy: 0.6337 - lr: 1.0000e-05\n",
            "Epoch 90/100\n",
            "782/782 [==============================] - 13s 16ms/step - loss: 0.7127 - accuracy: 0.7446 - val_loss: 1.1148 - val_accuracy: 0.6342 - lr: 1.0000e-05\n",
            "Epoch 91/100\n",
            "782/782 [==============================] - 13s 17ms/step - loss: 0.7135 - accuracy: 0.7468 - val_loss: 1.1145 - val_accuracy: 0.6338 - lr: 1.0000e-05\n",
            "Epoch 92/100\n",
            "782/782 [==============================] - 13s 16ms/step - loss: 0.7116 - accuracy: 0.7479 - val_loss: 1.1148 - val_accuracy: 0.6350 - lr: 1.0000e-05\n",
            "Epoch 93/100\n",
            "782/782 [==============================] - 13s 17ms/step - loss: 0.7149 - accuracy: 0.7487 - val_loss: 1.1146 - val_accuracy: 0.6348 - lr: 1.0000e-05\n",
            "Epoch 94/100\n",
            "782/782 [==============================] - 13s 17ms/step - loss: 0.7158 - accuracy: 0.7462 - val_loss: 1.1148 - val_accuracy: 0.6338 - lr: 1.0000e-05\n",
            "Epoch 95/100\n",
            "782/782 [==============================] - 13s 17ms/step - loss: 0.7122 - accuracy: 0.7485 - val_loss: 1.1155 - val_accuracy: 0.6342 - lr: 1.0000e-05\n",
            "Epoch 96/100\n",
            "782/782 [==============================] - 13s 16ms/step - loss: 0.7090 - accuracy: 0.7484 - val_loss: 1.1154 - val_accuracy: 0.6353 - lr: 1.0000e-05\n",
            "Epoch 97/100\n",
            "782/782 [==============================] - 13s 16ms/step - loss: 0.7139 - accuracy: 0.7476 - val_loss: 1.1155 - val_accuracy: 0.6332 - lr: 1.0000e-05\n",
            "Epoch 98/100\n",
            "782/782 [==============================] - 13s 17ms/step - loss: 0.7116 - accuracy: 0.7479 - val_loss: 1.1153 - val_accuracy: 0.6355 - lr: 1.0000e-05\n",
            "Epoch 99/100\n",
            "782/782 [==============================] - 13s 16ms/step - loss: 0.7090 - accuracy: 0.7471 - val_loss: 1.1156 - val_accuracy: 0.6346 - lr: 1.0000e-05\n",
            "Epoch 100/100\n",
            "782/782 [==============================] - 13s 17ms/step - loss: 0.7102 - accuracy: 0.7488 - val_loss: 1.1153 - val_accuracy: 0.6353 - lr: 1.0000e-05\n"
          ]
        },
        {
          "output_type": "execute_result",
          "data": {
            "text/plain": [
              "<keras.callbacks.History at 0x7f65f02d7550>"
            ]
          },
          "metadata": {},
          "execution_count": 10
        }
      ]
    },
    {
      "cell_type": "code",
      "source": [
        "metrics = pd.DataFrame(model.history.history)"
      ],
      "metadata": {
        "id": "AhNOnIhT2ZJm"
      },
      "execution_count": 11,
      "outputs": []
    },
    {
      "cell_type": "code",
      "source": [
        "metrics[['loss','val_loss']].plot()"
      ],
      "metadata": {
        "id": "fviF0RJ7zT5t",
        "colab": {
          "base_uri": "https://localhost:8080/",
          "height": 447
        },
        "outputId": "023edefc-dc14-4a26-e7c0-a26e68b727e1"
      },
      "execution_count": 12,
      "outputs": [
        {
          "output_type": "execute_result",
          "data": {
            "text/plain": [
              "<Axes: >"
            ]
          },
          "metadata": {},
          "execution_count": 12
        },
        {
          "output_type": "display_data",
          "data": {
            "text/plain": [
              "<Figure size 640x480 with 1 Axes>"
            ],
            "image/png": "[encoded data removed]"
          },
          "metadata": {}
        }
      ]
    },
    {
      "cell_type": "code",
      "source": [
        "metrics[['accuracy','val_accuracy']].plot()"
      ],
      "metadata": {
        "id": "6dd0X1CJ2GfJ",
        "colab": {
          "base_uri": "https://localhost:8080/",
          "height": 447
        },
        "outputId": "cbf3610a-7f38-46c3-c4dc-c6b34fb883dd"
      },
      "execution_count": 13,
      "outputs": [
        {
          "output_type": "execute_result",
          "data": {
            "text/plain": [
              "<Axes: >"
            ]
          },
          "metadata": {},
          "execution_count": 13
        },
        {
          "output_type": "display_data",
          "data": {
            "text/plain": [
              "<Figure size 640x480 with 1 Axes>"
            ],
            "image/png": "[encoded data removed]"
          },
          "metadata": {}
        }
      ]
    },
    {
      "cell_type": "code",
      "source": [
        "x_test_predictions = np.argmax(model.predict(x_test), axis=1)\n",
        "print(confusion_matrix(y_test,x_test_predictions))"
      ],
      "metadata": {
        "id": "9M-29DhV2IOF",
        "colab": {
          "base_uri": "https://localhost:8080/"
        },
        "outputId": "3d7bf3a1-e17a-4291-a1c8-d2ddfec5ae57"
      },
      "execution_count": 14,
      "outputs": [
        {
          "output_type": "stream",
          "name": "stdout",
          "text": [
            "313/313 [==============================] - 3s 8ms/step\n",
            "[[719  31  43  17  21  14  13  18  91  33]\n",
            " [ 27 705  14  27  11  12  21  13  46 124]\n",
            " [ 60  16 529  95  90  62  89  24  22  13]\n",
            " [ 18  48  63 467  55 154  84  36  26  49]\n",
            " [ 18  16  74  72 557  44  96  82  28  13]\n",
            " [ 13  26  50 162  61 554  51  51   9  23]\n",
            " [ 12  18  64  54  65  48 708   9  12  10]\n",
            " [ 16  15  47  39  78  67  21 676   9  32]\n",
            " [ 78  61  23  20  11   4   7   5 747  44]\n",
            " [ 33 118  13  29  15  14  18  25  44 691]]\n"
          ]
        }
      ]
    },
    {
      "cell_type": "code",
      "source": [
        "print(classification_report(y_test,x_test_predictions))"
      ],
      "metadata": {
        "id": "tAFy463q3vci",
        "colab": {
          "base_uri": "https://localhost:8080/"
        },
        "outputId": "8850df6f-8ec2-4187-b211-3fe8bec93652"
      },
      "execution_count": 15,
      "outputs": [
        {
          "output_type": "stream",
          "name": "stdout",
          "text": [
            "              precision    recall  f1-score   support\n",
            "\n",
            "           0       0.72      0.72      0.72      1000\n",
            "           1       0.67      0.70      0.69      1000\n",
            "           2       0.57      0.53      0.55      1000\n",
            "           3       0.48      0.47      0.47      1000\n",
            "           4       0.58      0.56      0.57      1000\n",
            "           5       0.57      0.55      0.56      1000\n",
            "           6       0.64      0.71      0.67      1000\n",
            "           7       0.72      0.68      0.70      1000\n",
            "           8       0.72      0.75      0.73      1000\n",
            "           9       0.67      0.69      0.68      1000\n",
            "\n",
            "    accuracy                           0.64     10000\n",
            "   macro avg       0.63      0.64      0.63     10000\n",
            "weighted avg       0.63      0.64      0.63     10000\n",
            "\n"
          ]
        }
      ]
    },
    {
      "cell_type": "code",
      "source": [],
      "metadata": {
        "id": "5TyHQxOKUEi1"
      },
      "execution_count": 15,
      "outputs": []
    }
  ]
}